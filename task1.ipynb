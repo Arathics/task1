{
  "nbformat": 4,
  "nbformat_minor": 0,
  "metadata": {
    "colab": {
      "provenance": [],
      "authorship_tag": "ABX9TyM61KR6vyRhExCzvBUnG8w5",
      "include_colab_link": true
    },
    "kernelspec": {
      "name": "python3",
      "display_name": "Python 3"
    },
    "language_info": {
      "name": "python"
    }
  },
  "cells": [
    {
      "cell_type": "markdown",
      "metadata": {
        "id": "view-in-github",
        "colab_type": "text"
      },
      "source": [
        "<a href=\"https://colab.research.google.com/github/Arathics/task1/blob/main/task1.ipynb\" target=\"_parent\"><img src=\"https://colab.research.google.com/assets/colab-badge.svg\" alt=\"Open In Colab\"/></a>"
      ]
    },
    {
      "cell_type": "code",
      "execution_count": null,
      "metadata": {
        "colab": {
          "base_uri": "https://localhost:8080/"
        },
        "id": "X0GPSasBI1bL",
        "outputId": "62f5dc75-bc54-489a-e664-1246be65dde8"
      },
      "outputs": [
        {
          "output_type": "stream",
          "name": "stdout",
          "text": [
            "list: [1, 2, 3, 'arathi', 'mainflow']\n",
            "updated list: [1, 100, 'arathi', 'mainflow', 4, 'technology']\n"
          ]
        }
      ],
      "source": [
        "#creating a list\n",
        "my_list=[1,2,3,\"arathi\",\"mainflow\"]\n",
        "print(\"list:\",my_list)\n",
        "#Adding an element to the list\n",
        "my_list.append(4)\n",
        "my_list.append(\"technology\")\n",
        "#Removing an element from the list\n",
        "my_list.remove(3)\n",
        "#Modifying an element from the list\n",
        "my_list[1]=100\n",
        "print(\"updated list:\",my_list)"
      ]
    },
    {
      "cell_type": "code",
      "source": [
        "#creating a dictionary\n",
        "my_dict={'name':'Arathi','place':'Kerala'}\n",
        "print(\"dictionary:\",my_dict)\n",
        "#Adding an element to the dictionary\n",
        "my_dict['gender']='Female'\n",
        "my_dict['hobbies']='Drawing'\n",
        "#Removing an element from the dictionary\n",
        "del my_dict['place']\n",
        "#Modifying an element from the dictionary\n",
        "my_dict['name']='Aswathi'\n",
        "print(\"updated dictionary:\",my_dict)"
      ],
      "metadata": {
        "colab": {
          "base_uri": "https://localhost:8080/"
        },
        "id": "saHUoDx_Lory",
        "outputId": "9eee36d5-f7d5-41d3-fa02-e184063ebbdb"
      },
      "execution_count": null,
      "outputs": [
        {
          "output_type": "stream",
          "name": "stdout",
          "text": [
            "dictionary: {'name': 'Arathi', 'place': 'Kerala'}\n",
            "updated dictionary: {'name': 'Aswathi', 'gender': 'Female', 'hobbies': 'Drawing'}\n"
          ]
        }
      ]
    },
    {
      "cell_type": "code",
      "source": [
        "#creating a set\n",
        "my_set={11,12,13,14}\n",
        "print(\"set:\",my_set)\n",
        "#Adding an element to the set\n",
        "my_set.add(15)\n",
        "#Removing an element from the set\n",
        "my_set.remove(12)\n",
        "#Modifying an element from the set\n",
        "my_set.discard(11)\n",
        "my_set.add(21)\n",
        "print(\"updated set:\",my_set)"
      ],
      "metadata": {
        "colab": {
          "base_uri": "https://localhost:8080/"
        },
        "id": "QJn6oicGJF66",
        "outputId": "32e23e4b-30d8-465d-c2a6-470292fa4141"
      },
      "execution_count": null,
      "outputs": [
        {
          "output_type": "stream",
          "name": "stdout",
          "text": [
            "set: {11, 12, 13, 14}\n",
            "updated set: {13, 14, 15, 21}\n"
          ]
        }
      ]
    }
  ]
}